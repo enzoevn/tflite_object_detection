{
 "cells": [
  {
   "cell_type": "code",
   "execution_count": 2,
   "metadata": {},
   "outputs": [],
   "source": [
    "# Convert images to jpg format\n",
    "\n",
    "import os\n",
    "from PIL import Image\n",
    "\n",
    "def convert_to_jpg(path):\n",
    "    for filename in os.listdir(path):\n",
    "        if filename.endswith('.png'):\n",
    "            img = Image.open(os.path.join(path, filename))\n",
    "            img = img.convert('RGB')\n",
    "            img.save(os.path.join(path, filename.replace('.png', '.jpg')))\n",
    "            os.remove(os.path.join(path, filename))\n",
    "    print('Done')"
   ]
  },
  {
   "cell_type": "code",
   "execution_count": null,
   "metadata": {},
   "outputs": [],
   "source": [
    "convert_to_jpg('/home/enzo.viacava/png/images')"
   ]
  }
 ],
 "metadata": {
  "kernelspec": {
   "display_name": "Python 3",
   "language": "python",
   "name": "python3"
  },
  "language_info": {
   "codemirror_mode": {
    "name": "ipython",
    "version": 3
   },
   "file_extension": ".py",
   "mimetype": "text/x-python",
   "name": "python",
   "nbconvert_exporter": "python",
   "pygments_lexer": "ipython3",
   "version": "3.8.10"
  }
 },
 "nbformat": 4,
 "nbformat_minor": 2
}
