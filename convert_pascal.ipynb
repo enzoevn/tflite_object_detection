{
 "cells": [
  {
   "cell_type": "code",
   "execution_count": 11,
   "metadata": {},
   "outputs": [],
   "source": [
    "import json\n",
    "import os\n",
    "import xml.etree.ElementTree as ET\n",
    "from xml.dom import minidom\n",
    "\n",
    "def prettify(elem):\n",
    "    \"\"\"Return a pretty-printed XML string for the Element.\"\"\"\n",
    "    rough_string = ET.tostring(elem, 'utf-8')\n",
    "    reparsed = minidom.parseString(rough_string)\n",
    "    return reparsed.toprettyxml(indent=\"  \")\n",
    "\n",
    "def json_to_xml(json_file, output_dir):\n",
    "    with open(json_file) as f:\n",
    "        data = json.load(f)\n",
    "    \n",
    "    for i in data['images']:\n",
    "        annotation = ET.Element('annotation')\n",
    "        ET.SubElement(annotation, 'folder').text = 'JPEGImages'\n",
    "        # Check if extension is .png\n",
    "        if i['file_name'].endswith('.png'):\n",
    "            # Replace .png with .jpg\n",
    "            ET.SubElement(annotation, 'filename').text = i['file_name'].replace('.png', '.jpg')\n",
    "            #ET.SubElement(annotation, 'filename').text = i['file_name']\n",
    "        source = ET.SubElement(annotation, 'source')\n",
    "        ET.SubElement(source, 'database').text = 'Unknown'\n",
    "        size = ET.SubElement(annotation, 'size')\n",
    "        ET.SubElement(size, 'width').text = str(i['width'])\n",
    "        ET.SubElement(size, 'height').text = str(i['height'])\n",
    "        ET.SubElement(size, 'depth').text = '3'\n",
    "        ET.SubElement(annotation, 'segmented').text = '0'\n",
    "\n",
    "        for a in data['annotations']:\n",
    "            if a['image_id'] == i['id']:\n",
    "                for c in data['categories']:\n",
    "                    if a['category_id'] == c['id']:\n",
    "                        object = ET.SubElement(annotation, 'object')\n",
    "                        ET.SubElement(object, 'name').text = c['name']\n",
    "                        ET.SubElement(object, 'pose').text = 'Unspecified'\n",
    "                        ET.SubElement(object, 'truncated').text = '0'\n",
    "                        ET.SubElement(object, 'difficult').text = '0'\n",
    "                        bndbox = ET.SubElement(object, 'bndbox')\n",
    "                        ET.SubElement(bndbox, 'xmin').text = str(int(a['bbox'][0]))\n",
    "                        ET.SubElement(bndbox, 'ymin').text = str(int(a['bbox'][1]))\n",
    "                        ET.SubElement(bndbox, 'xmax').text = str(int(a['bbox'][0] + a['bbox'][2]))\n",
    "                        ET.SubElement(bndbox, 'ymax').text = str(int(a['bbox'][1] + a['bbox'][3]))\n",
    "\n",
    "        xml = prettify(annotation)\n",
    "        with open(os.path.join(output_dir, i['file_name'].replace('.png', '.xml')), 'w') as f:\n",
    "            f.write(xml)\n"
   ]
  },
  {
   "cell_type": "code",
   "execution_count": 12,
   "metadata": {},
   "outputs": [],
   "source": [
    "# Usage\n",
    "json_to_xml('/home/enzo.viacava/annotations/instances_default_ev.json', '/home/enzo.viacava/pascal_voc_ev')"
   ]
  }
 ],
 "metadata": {
  "kernelspec": {
   "display_name": "Python 3",
   "language": "python",
   "name": "python3"
  },
  "language_info": {
   "codemirror_mode": {
    "name": "ipython",
    "version": 3
   },
   "file_extension": ".py",
   "mimetype": "text/x-python",
   "name": "python",
   "nbconvert_exporter": "python",
   "pygments_lexer": "ipython3",
   "version": "3.8.10"
  }
 },
 "nbformat": 4,
 "nbformat_minor": 2
}
