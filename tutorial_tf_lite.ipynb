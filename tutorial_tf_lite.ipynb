{
 "cells": [
  {
   "cell_type": "code",
   "execution_count": 1,
   "metadata": {},
   "outputs": [
    {
     "name": "stderr",
     "output_type": "stream",
     "text": [
      "2024-03-07 15:28:57.959310: W tensorflow/stream_executor/platform/default/dso_loader.cc:64] Could not load dynamic library 'libcudart.so.11.0'; dlerror: libcudart.so.11.0: cannot open shared object file: No such file or directory; LD_LIBRARY_PATH: /usr/local/cuda/extras/CUPTI/lib64:/usr/local/cuda/compat/lib:/usr/local/nvidia/lib:/usr/local/nvidia/lib64\n",
      "2024-03-07 15:28:57.959350: I tensorflow/stream_executor/cuda/cudart_stub.cc:29] Ignore above cudart dlerror if you do not have a GPU set up on your machine.\n",
      "/home/enzo.viacava/.local/lib/python3.9/site-packages/tensorflow_addons/utils/tfa_eol_msg.py:23: UserWarning: \n",
      "\n",
      "TensorFlow Addons (TFA) has ended development and introduction of new features.\n",
      "TFA has entered a minimal maintenance and release mode until a planned end of life in May 2024.\n",
      "Please modify downstream libraries to take dependencies from other repositories in our TensorFlow community (e.g. Keras, Keras-CV, and Keras-NLP). \n",
      "\n",
      "For more information see: https://github.com/tensorflow/addons/issues/2807 \n",
      "\n",
      "  warnings.warn(\n",
      "/home/enzo.viacava/.local/lib/python3.9/site-packages/tensorflow_addons/utils/ensure_tf_install.py:53: UserWarning: Tensorflow Addons supports using Python ops for all Tensorflow versions above or equal to 2.13.0 and strictly below 2.16.0 (nightly versions are not supported). \n",
      " The versions of TensorFlow you are currently using is 2.8.4 and is not supported. \n",
      "Some things might work, some things might not.\n",
      "If you were to encounter a bug, do not file an issue.\n",
      "If you want to make sure you're using a tested and supported configuration, either change the TensorFlow version or the TensorFlow Addons's version. \n",
      "You can find the compatibility matrix in TensorFlow Addon's readme:\n",
      "https://github.com/tensorflow/addons\n",
      "  warnings.warn(\n",
      "/home/enzo.viacava/.local/lib/python3.9/site-packages/tqdm/auto.py:21: TqdmWarning: IProgress not found. Please update jupyter and ipywidgets. See https://ipywidgets.readthedocs.io/en/stable/user_install.html\n",
      "  from .autonotebook import tqdm as notebook_tqdm\n"
     ]
    }
   ],
   "source": [
    "import numpy as np\n",
    "import os\n",
    "\n",
    "from tflite_model_maker.config import ExportFormat\n",
    "from tflite_model_maker import model_spec\n",
    "from tflite_model_maker import object_detector\n",
    "\n",
    "import tensorflow as tf\n",
    "assert tf.__version__.startswith('2')\n",
    "\n",
    "tf.get_logger().setLevel('ERROR')\n",
    "from absl import logging\n",
    "logging.set_verbosity(logging.ERROR)"
   ]
  },
  {
   "cell_type": "code",
   "execution_count": 2,
   "metadata": {},
   "outputs": [],
   "source": [
    "use_custom_dataset = False\n",
    "\n",
    "dataset_is_split = False"
   ]
  },
  {
   "cell_type": "code",
   "execution_count": 3,
   "metadata": {},
   "outputs": [
    {
     "name": "stderr",
     "output_type": "stream",
     "text": [
      "2024-03-07 15:29:02.696447: W tensorflow/core/platform/cloud/google_auth_provider.cc:184] All attempts to get a Google authentication bearer token failed, returning an empty token. Retrieving token from files failed with \"NOT_FOUND: Could not locate the credentials file.\". Retrieving token from GCE failed with \"FAILED_PRECONDITION: Error executing an HTTP request: libcurl code 6 meaning 'Couldn't resolve host name', error details: Could not resolve host: metadata\".\n"
     ]
    }
   ],
   "source": [
    "if not use_custom_dataset:\n",
    "  train_data, validation_data, test_data = object_detector.DataLoader.from_csv('/home/enzo.viacava/salads_ml_use.csv')"
   ]
  },
  {
   "cell_type": "code",
   "execution_count": 4,
   "metadata": {},
   "outputs": [
    {
     "data": {
      "text/plain": [
       "175"
      ]
     },
     "execution_count": 4,
     "metadata": {},
     "output_type": "execute_result"
    }
   ],
   "source": [
    "train_data.size"
   ]
  },
  {
   "cell_type": "code",
   "execution_count": 5,
   "metadata": {},
   "outputs": [
    {
     "name": "stderr",
     "output_type": "stream",
     "text": [
      "2024-03-07 15:44:32.744508: W tensorflow/stream_executor/platform/default/dso_loader.cc:64] Could not load dynamic library 'libcudart.so.11.0'; dlerror: libcudart.so.11.0: cannot open shared object file: No such file or directory; LD_LIBRARY_PATH: /home/enzo.viacava/.local/lib/python3.9/site-packages/cv2/../../lib64:/usr/local/cuda/extras/CUPTI/lib64:/usr/local/cuda/compat/lib:/usr/local/nvidia/lib:/usr/local/nvidia/lib64\n",
      "2024-03-07 15:44:32.744724: W tensorflow/stream_executor/platform/default/dso_loader.cc:64] Could not load dynamic library 'libcublas.so.11'; dlerror: libcublas.so.11: cannot open shared object file: No such file or directory; LD_LIBRARY_PATH: /home/enzo.viacava/.local/lib/python3.9/site-packages/cv2/../../lib64:/usr/local/cuda/extras/CUPTI/lib64:/usr/local/cuda/compat/lib:/usr/local/nvidia/lib:/usr/local/nvidia/lib64\n",
      "2024-03-07 15:44:32.744792: W tensorflow/stream_executor/platform/default/dso_loader.cc:64] Could not load dynamic library 'libcublasLt.so.11'; dlerror: libcublasLt.so.11: cannot open shared object file: No such file or directory; LD_LIBRARY_PATH: /home/enzo.viacava/.local/lib/python3.9/site-packages/cv2/../../lib64:/usr/local/cuda/extras/CUPTI/lib64:/usr/local/cuda/compat/lib:/usr/local/nvidia/lib:/usr/local/nvidia/lib64\n",
      "2024-03-07 15:44:32.744851: W tensorflow/stream_executor/platform/default/dso_loader.cc:64] Could not load dynamic library 'libcufft.so.10'; dlerror: libcufft.so.10: cannot open shared object file: No such file or directory; LD_LIBRARY_PATH: /home/enzo.viacava/.local/lib/python3.9/site-packages/cv2/../../lib64:/usr/local/cuda/extras/CUPTI/lib64:/usr/local/cuda/compat/lib:/usr/local/nvidia/lib:/usr/local/nvidia/lib64\n",
      "2024-03-07 15:44:32.771480: W tensorflow/stream_executor/platform/default/dso_loader.cc:64] Could not load dynamic library 'libcusparse.so.11'; dlerror: libcusparse.so.11: cannot open shared object file: No such file or directory; LD_LIBRARY_PATH: /home/enzo.viacava/.local/lib/python3.9/site-packages/cv2/../../lib64:/usr/local/cuda/extras/CUPTI/lib64:/usr/local/cuda/compat/lib:/usr/local/nvidia/lib:/usr/local/nvidia/lib64\n",
      "2024-03-07 15:44:32.771576: W tensorflow/stream_executor/platform/default/dso_loader.cc:64] Could not load dynamic library 'libcudnn.so.8'; dlerror: libcudnn.so.8: cannot open shared object file: No such file or directory; LD_LIBRARY_PATH: /home/enzo.viacava/.local/lib/python3.9/site-packages/cv2/../../lib64:/usr/local/cuda/extras/CUPTI/lib64:/usr/local/cuda/compat/lib:/usr/local/nvidia/lib:/usr/local/nvidia/lib64\n",
      "2024-03-07 15:44:32.771588: W tensorflow/core/common_runtime/gpu/gpu_device.cc:1850] Cannot dlopen some GPU libraries. Please make sure the missing libraries mentioned above are installed properly if you would like to use GPU. Follow the guide at https://www.tensorflow.org/install/gpu for how to download and setup the required libraries for your platform.\n",
      "Skipping registering GPU devices...\n",
      "2024-03-07 15:44:32.773394: I tensorflow/core/platform/cpu_feature_guard.cc:151] This TensorFlow binary is optimized with oneAPI Deep Neural Network Library (oneDNN) to use the following CPU instructions in performance-critical operations:  AVX2 FMA\n",
      "To enable them in other operations, rebuild TensorFlow with the appropriate compiler flags.\n"
     ]
    }
   ],
   "source": [
    "spec = object_detector.EfficientDetLite0Spec()"
   ]
  },
  {
   "cell_type": "code",
   "execution_count": 6,
   "metadata": {},
   "outputs": [
    {
     "name": "stdout",
     "output_type": "stream",
     "text": [
      "Epoch 1/50\n"
     ]
    },
    {
     "name": "stderr",
     "output_type": "stream",
     "text": [
      "2024-03-07 15:44:45.217233: W tensorflow/core/framework/dataset.cc:768] Input of GeneratorDatasetOp::Dataset will not be optimized because the dataset does not implement the AsGraphDefInternal() method needed to apply optimizations.\n"
     ]
    },
    {
     "name": "stdout",
     "output_type": "stream",
     "text": [
      "17/17 [==============================] - ETA: 0s - det_loss: 1.7947 - cls_loss: 1.1351 - box_loss: 0.0132 - reg_l2_loss: 0.0635 - loss: 1.8582 - learning_rate: 0.0101 - gradient_norm: 0.7137"
     ]
    },
    {
     "name": "stderr",
     "output_type": "stream",
     "text": [
      "2024-03-07 15:45:23.517348: W tensorflow/core/framework/dataset.cc:768] Input of GeneratorDatasetOp::Dataset will not be optimized because the dataset does not implement the AsGraphDefInternal() method needed to apply optimizations.\n"
     ]
    },
    {
     "name": "stdout",
     "output_type": "stream",
     "text": [
      "17/17 [==============================] - 41s 1s/step - det_loss: 1.7881 - cls_loss: 1.1343 - box_loss: 0.0131 - reg_l2_loss: 0.0635 - loss: 1.8517 - learning_rate: 0.0102 - gradient_norm: 0.7347 - val_det_loss: 1.7108 - val_cls_loss: 1.1193 - val_box_loss: 0.0118 - val_reg_l2_loss: 0.0635 - val_loss: 1.7743\n",
      "Epoch 2/50\n",
      "17/17 [==============================] - 16s 977ms/step - det_loss: 1.6497 - cls_loss: 1.0984 - box_loss: 0.0110 - reg_l2_loss: 0.0635 - loss: 1.7132 - learning_rate: 0.0125 - gradient_norm: 0.7772 - val_det_loss: 1.6193 - val_cls_loss: 1.0588 - val_box_loss: 0.0112 - val_reg_l2_loss: 0.0635 - val_loss: 1.6828\n",
      "Epoch 3/50\n",
      "17/17 [==============================] - ETA: 0s - det_loss: 1.5019 - cls_loss: 1.0040 - box_loss: 0.0100 - reg_l2_loss: 0.0635 - loss: 1.5654 - learning_rate: 0.0124 - gradient_norm: 1.0689"
     ]
    },
    {
     "name": "stderr",
     "output_type": "stream",
     "text": [
      "2024-03-07 15:45:58.002421: W tensorflow/core/framework/dataset.cc:768] Input of GeneratorDatasetOp::Dataset will not be optimized because the dataset does not implement the AsGraphDefInternal() method needed to apply optimizations.\n"
     ]
    },
    {
     "name": "stdout",
     "output_type": "stream",
     "text": [
      "17/17 [==============================] - 16s 981ms/step - det_loss: 1.4977 - cls_loss: 1.0016 - box_loss: 0.0099 - reg_l2_loss: 0.0635 - loss: 1.5613 - learning_rate: 0.0124 - gradient_norm: 1.0777 - val_det_loss: 1.4639 - val_cls_loss: 0.9339 - val_box_loss: 0.0106 - val_reg_l2_loss: 0.0635 - val_loss: 1.5274\n",
      "Epoch 4/50\n",
      "17/17 [==============================] - 17s 998ms/step - det_loss: 1.3056 - cls_loss: 0.8491 - box_loss: 0.0091 - reg_l2_loss: 0.0635 - loss: 1.3691 - learning_rate: 0.0123 - gradient_norm: 1.5278 - val_det_loss: 1.4204 - val_cls_loss: 0.9191 - val_box_loss: 0.0100 - val_reg_l2_loss: 0.0635 - val_loss: 1.4839\n",
      "Epoch 5/50\n",
      "17/17 [==============================] - ETA: 0s - det_loss: 1.1628 - cls_loss: 0.7358 - box_loss: 0.0085 - reg_l2_loss: 0.0635 - loss: 1.2263 - learning_rate: 0.0122 - gradient_norm: 1.7650"
     ]
    },
    {
     "name": "stderr",
     "output_type": "stream",
     "text": [
      "2024-03-07 15:46:30.607138: W tensorflow/core/framework/dataset.cc:768] Input of GeneratorDatasetOp::Dataset will not be optimized because the dataset does not implement the AsGraphDefInternal() method needed to apply optimizations.\n"
     ]
    },
    {
     "name": "stdout",
     "output_type": "stream",
     "text": [
      "17/17 [==============================] - 21s 1s/step - det_loss: 1.1634 - cls_loss: 0.7351 - box_loss: 0.0086 - reg_l2_loss: 0.0635 - loss: 1.2270 - learning_rate: 0.0122 - gradient_norm: 1.7678 - val_det_loss: 1.3324 - val_cls_loss: 0.8499 - val_box_loss: 0.0097 - val_reg_l2_loss: 0.0636 - val_loss: 1.3960\n",
      "Epoch 6/50\n",
      "17/17 [==============================] - 16s 955ms/step - det_loss: 1.0907 - cls_loss: 0.6901 - box_loss: 0.0080 - reg_l2_loss: 0.0636 - loss: 1.1542 - learning_rate: 0.0121 - gradient_norm: 1.6007 - val_det_loss: 1.3077 - val_cls_loss: 0.8367 - val_box_loss: 0.0094 - val_reg_l2_loss: 0.0636 - val_loss: 1.3712\n",
      "Epoch 7/50\n",
      "17/17 [==============================] - ETA: 0s - det_loss: 1.0016 - cls_loss: 0.6351 - box_loss: 0.0073 - reg_l2_loss: 0.0636 - loss: 1.0651 - learning_rate: 0.0120 - gradient_norm: 1.6425"
     ]
    },
    {
     "name": "stderr",
     "output_type": "stream",
     "text": [
      "2024-03-07 15:47:08.264283: W tensorflow/core/framework/dataset.cc:768] Input of GeneratorDatasetOp::Dataset will not be optimized because the dataset does not implement the AsGraphDefInternal() method needed to apply optimizations.\n"
     ]
    },
    {
     "name": "stdout",
     "output_type": "stream",
     "text": [
      "17/17 [==============================] - 17s 999ms/step - det_loss: 1.0047 - cls_loss: 0.6376 - box_loss: 0.0073 - reg_l2_loss: 0.0636 - loss: 1.0682 - learning_rate: 0.0120 - gradient_norm: 1.6756 - val_det_loss: 1.2604 - val_cls_loss: 0.7924 - val_box_loss: 0.0094 - val_reg_l2_loss: 0.0636 - val_loss: 1.3240\n",
      "Epoch 8/50\n",
      "17/17 [==============================] - 16s 949ms/step - det_loss: 0.9980 - cls_loss: 0.6308 - box_loss: 0.0073 - reg_l2_loss: 0.0636 - loss: 1.0615 - learning_rate: 0.0118 - gradient_norm: 1.7969 - val_det_loss: 1.1738 - val_cls_loss: 0.7269 - val_box_loss: 0.0089 - val_reg_l2_loss: 0.0636 - val_loss: 1.2374\n",
      "Epoch 9/50\n",
      "17/17 [==============================] - ETA: 0s - det_loss: 0.9733 - cls_loss: 0.6137 - box_loss: 0.0072 - reg_l2_loss: 0.0636 - loss: 1.0369 - learning_rate: 0.0116 - gradient_norm: 1.8007"
     ]
    },
    {
     "name": "stderr",
     "output_type": "stream",
     "text": [
      "2024-03-07 15:47:40.747919: W tensorflow/core/framework/dataset.cc:768] Input of GeneratorDatasetOp::Dataset will not be optimized because the dataset does not implement the AsGraphDefInternal() method needed to apply optimizations.\n"
     ]
    },
    {
     "name": "stdout",
     "output_type": "stream",
     "text": [
      "17/17 [==============================] - 16s 961ms/step - det_loss: 0.9715 - cls_loss: 0.6136 - box_loss: 0.0072 - reg_l2_loss: 0.0636 - loss: 1.0351 - learning_rate: 0.0116 - gradient_norm: 1.7899 - val_det_loss: 1.1600 - val_cls_loss: 0.7281 - val_box_loss: 0.0086 - val_reg_l2_loss: 0.0636 - val_loss: 1.2236\n",
      "Epoch 10/50\n",
      "17/17 [==============================] - 17s 1s/step - det_loss: 0.8993 - cls_loss: 0.5746 - box_loss: 0.0065 - reg_l2_loss: 0.0636 - loss: 0.9629 - learning_rate: 0.0114 - gradient_norm: 1.7650 - val_det_loss: 1.0783 - val_cls_loss: 0.6514 - val_box_loss: 0.0085 - val_reg_l2_loss: 0.0636 - val_loss: 1.1419\n",
      "Epoch 11/50\n",
      "17/17 [==============================] - ETA: 0s - det_loss: 0.8709 - cls_loss: 0.5583 - box_loss: 0.0063 - reg_l2_loss: 0.0636 - loss: 0.9345 - learning_rate: 0.0111 - gradient_norm: 1.7479"
     ]
    },
    {
     "name": "stderr",
     "output_type": "stream",
     "text": [
      "2024-03-07 15:48:13.813255: W tensorflow/core/framework/dataset.cc:768] Input of GeneratorDatasetOp::Dataset will not be optimized because the dataset does not implement the AsGraphDefInternal() method needed to apply optimizations.\n"
     ]
    },
    {
     "name": "stdout",
     "output_type": "stream",
     "text": [
      "17/17 [==============================] - 16s 972ms/step - det_loss: 0.8696 - cls_loss: 0.5562 - box_loss: 0.0063 - reg_l2_loss: 0.0636 - loss: 0.9332 - learning_rate: 0.0111 - gradient_norm: 1.7432 - val_det_loss: 1.0952 - val_cls_loss: 0.6662 - val_box_loss: 0.0086 - val_reg_l2_loss: 0.0636 - val_loss: 1.1588\n",
      "Epoch 12/50\n",
      "17/17 [==============================] - 16s 950ms/step - det_loss: 0.8621 - cls_loss: 0.5535 - box_loss: 0.0062 - reg_l2_loss: 0.0636 - loss: 0.9257 - learning_rate: 0.0109 - gradient_norm: 1.8247 - val_det_loss: 1.0309 - val_cls_loss: 0.6114 - val_box_loss: 0.0084 - val_reg_l2_loss: 0.0636 - val_loss: 1.0945\n",
      "Epoch 13/50\n",
      "17/17 [==============================] - ETA: 0s - det_loss: 0.8640 - cls_loss: 0.5574 - box_loss: 0.0061 - reg_l2_loss: 0.0636 - loss: 0.9276 - learning_rate: 0.0106 - gradient_norm: 1.9453"
     ]
    },
    {
     "name": "stderr",
     "output_type": "stream",
     "text": [
      "2024-03-07 15:48:45.847752: W tensorflow/core/framework/dataset.cc:768] Input of GeneratorDatasetOp::Dataset will not be optimized because the dataset does not implement the AsGraphDefInternal() method needed to apply optimizations.\n"
     ]
    },
    {
     "name": "stdout",
     "output_type": "stream",
     "text": [
      "17/17 [==============================] - 16s 927ms/step - det_loss: 0.8708 - cls_loss: 0.5626 - box_loss: 0.0062 - reg_l2_loss: 0.0636 - loss: 0.9344 - learning_rate: 0.0106 - gradient_norm: 1.9968 - val_det_loss: 1.0468 - val_cls_loss: 0.6295 - val_box_loss: 0.0083 - val_reg_l2_loss: 0.0636 - val_loss: 1.1104\n",
      "Epoch 14/50\n",
      "17/17 [==============================] - 16s 938ms/step - det_loss: 0.8149 - cls_loss: 0.5264 - box_loss: 0.0058 - reg_l2_loss: 0.0636 - loss: 0.8785 - learning_rate: 0.0103 - gradient_norm: 1.9244 - val_det_loss: 1.0238 - val_cls_loss: 0.6098 - val_box_loss: 0.0083 - val_reg_l2_loss: 0.0636 - val_loss: 1.0875\n",
      "Epoch 15/50\n",
      "17/17 [==============================] - ETA: 0s - det_loss: 0.7999 - cls_loss: 0.5164 - box_loss: 0.0057 - reg_l2_loss: 0.0636 - loss: 0.8635 - learning_rate: 0.0100 - gradient_norm: 1.9840"
     ]
    },
    {
     "name": "stderr",
     "output_type": "stream",
     "text": [
      "2024-03-07 15:49:17.519236: W tensorflow/core/framework/dataset.cc:768] Input of GeneratorDatasetOp::Dataset will not be optimized because the dataset does not implement the AsGraphDefInternal() method needed to apply optimizations.\n"
     ]
    },
    {
     "name": "stdout",
     "output_type": "stream",
     "text": [
      "17/17 [==============================] - 18s 1s/step - det_loss: 0.8063 - cls_loss: 0.5177 - box_loss: 0.0058 - reg_l2_loss: 0.0636 - loss: 0.8699 - learning_rate: 0.0100 - gradient_norm: 2.0168 - val_det_loss: 1.0823 - val_cls_loss: 0.6607 - val_box_loss: 0.0084 - val_reg_l2_loss: 0.0636 - val_loss: 1.1459\n",
      "Epoch 16/50\n",
      "17/17 [==============================] - 16s 923ms/step - det_loss: 0.7834 - cls_loss: 0.5099 - box_loss: 0.0055 - reg_l2_loss: 0.0636 - loss: 0.8470 - learning_rate: 0.0097 - gradient_norm: 1.8922 - val_det_loss: 1.0510 - val_cls_loss: 0.6398 - val_box_loss: 0.0082 - val_reg_l2_loss: 0.0636 - val_loss: 1.1146\n",
      "Epoch 17/50\n",
      "17/17 [==============================] - ETA: 0s - det_loss: 0.7765 - cls_loss: 0.4987 - box_loss: 0.0056 - reg_l2_loss: 0.0636 - loss: 0.8401 - learning_rate: 0.0093 - gradient_norm: 2.0608"
     ]
    },
    {
     "name": "stderr",
     "output_type": "stream",
     "text": [
      "2024-03-07 15:49:50.340614: W tensorflow/core/framework/dataset.cc:768] Input of GeneratorDatasetOp::Dataset will not be optimized because the dataset does not implement the AsGraphDefInternal() method needed to apply optimizations.\n"
     ]
    },
    {
     "name": "stdout",
     "output_type": "stream",
     "text": [
      "17/17 [==============================] - 16s 926ms/step - det_loss: 0.7742 - cls_loss: 0.5013 - box_loss: 0.0055 - reg_l2_loss: 0.0636 - loss: 0.8378 - learning_rate: 0.0093 - gradient_norm: 2.1512 - val_det_loss: 1.0337 - val_cls_loss: 0.6407 - val_box_loss: 0.0079 - val_reg_l2_loss: 0.0636 - val_loss: 1.0974\n",
      "Epoch 18/50\n",
      "17/17 [==============================] - 16s 957ms/step - det_loss: 0.7781 - cls_loss: 0.4928 - box_loss: 0.0057 - reg_l2_loss: 0.0636 - loss: 0.8418 - learning_rate: 0.0090 - gradient_norm: 1.8537 - val_det_loss: 1.0328 - val_cls_loss: 0.6338 - val_box_loss: 0.0080 - val_reg_l2_loss: 0.0637 - val_loss: 1.0964\n",
      "Epoch 19/50\n",
      "17/17 [==============================] - ETA: 0s - det_loss: 0.7501 - cls_loss: 0.4795 - box_loss: 0.0054 - reg_l2_loss: 0.0637 - loss: 0.8137 - learning_rate: 0.0086 - gradient_norm: 1.9371"
     ]
    },
    {
     "name": "stderr",
     "output_type": "stream",
     "text": [
      "2024-03-07 15:50:22.158044: W tensorflow/core/framework/dataset.cc:768] Input of GeneratorDatasetOp::Dataset will not be optimized because the dataset does not implement the AsGraphDefInternal() method needed to apply optimizations.\n"
     ]
    },
    {
     "name": "stdout",
     "output_type": "stream",
     "text": [
      "17/17 [==============================] - 16s 957ms/step - det_loss: 0.7492 - cls_loss: 0.4791 - box_loss: 0.0054 - reg_l2_loss: 0.0637 - loss: 0.8128 - learning_rate: 0.0086 - gradient_norm: 1.9468 - val_det_loss: 1.0003 - val_cls_loss: 0.6145 - val_box_loss: 0.0077 - val_reg_l2_loss: 0.0637 - val_loss: 1.0640\n",
      "Epoch 20/50\n",
      "17/17 [==============================] - 17s 1s/step - det_loss: 0.7355 - cls_loss: 0.4767 - box_loss: 0.0052 - reg_l2_loss: 0.0637 - loss: 0.7991 - learning_rate: 0.0082 - gradient_norm: 2.0505 - val_det_loss: 1.0773 - val_cls_loss: 0.6799 - val_box_loss: 0.0079 - val_reg_l2_loss: 0.0637 - val_loss: 1.1409\n",
      "Epoch 21/50\n",
      "17/17 [==============================] - ETA: 0s - det_loss: 0.7369 - cls_loss: 0.4800 - box_loss: 0.0051 - reg_l2_loss: 0.0637 - loss: 0.8006 - learning_rate: 0.0078 - gradient_norm: 2.1411"
     ]
    },
    {
     "name": "stderr",
     "output_type": "stream",
     "text": [
      "2024-03-07 15:50:55.060719: W tensorflow/core/framework/dataset.cc:768] Input of GeneratorDatasetOp::Dataset will not be optimized because the dataset does not implement the AsGraphDefInternal() method needed to apply optimizations.\n"
     ]
    },
    {
     "name": "stdout",
     "output_type": "stream",
     "text": [
      "17/17 [==============================] - 16s 933ms/step - det_loss: 0.7305 - cls_loss: 0.4757 - box_loss: 0.0051 - reg_l2_loss: 0.0637 - loss: 0.7941 - learning_rate: 0.0078 - gradient_norm: 2.1200 - val_det_loss: 0.9565 - val_cls_loss: 0.5710 - val_box_loss: 0.0077 - val_reg_l2_loss: 0.0637 - val_loss: 1.0201\n",
      "Epoch 22/50\n",
      "17/17 [==============================] - 16s 927ms/step - det_loss: 0.7257 - cls_loss: 0.4565 - box_loss: 0.0054 - reg_l2_loss: 0.0637 - loss: 0.7894 - learning_rate: 0.0074 - gradient_norm: 2.1041 - val_det_loss: 1.0295 - val_cls_loss: 0.6257 - val_box_loss: 0.0081 - val_reg_l2_loss: 0.0637 - val_loss: 1.0932\n",
      "Epoch 23/50\n",
      "17/17 [==============================] - ETA: 0s - det_loss: 0.7035 - cls_loss: 0.4581 - box_loss: 0.0049 - reg_l2_loss: 0.0637 - loss: 0.7672 - learning_rate: 0.0071 - gradient_norm: 2.0202"
     ]
    },
    {
     "name": "stderr",
     "output_type": "stream",
     "text": [
      "2024-03-07 15:51:26.468657: W tensorflow/core/framework/dataset.cc:768] Input of GeneratorDatasetOp::Dataset will not be optimized because the dataset does not implement the AsGraphDefInternal() method needed to apply optimizations.\n"
     ]
    },
    {
     "name": "stdout",
     "output_type": "stream",
     "text": [
      "17/17 [==============================] - 16s 940ms/step - det_loss: 0.7051 - cls_loss: 0.4598 - box_loss: 0.0049 - reg_l2_loss: 0.0637 - loss: 0.7687 - learning_rate: 0.0071 - gradient_norm: 2.0033 - val_det_loss: 0.9909 - val_cls_loss: 0.6035 - val_box_loss: 0.0077 - val_reg_l2_loss: 0.0637 - val_loss: 1.0546\n",
      "Epoch 24/50\n",
      "17/17 [==============================] - 16s 965ms/step - det_loss: 0.7203 - cls_loss: 0.4612 - box_loss: 0.0052 - reg_l2_loss: 0.0637 - loss: 0.7840 - learning_rate: 0.0067 - gradient_norm: 2.1285 - val_det_loss: 1.1130 - val_cls_loss: 0.7063 - val_box_loss: 0.0081 - val_reg_l2_loss: 0.0637 - val_loss: 1.1767\n",
      "Epoch 25/50\n",
      "17/17 [==============================] - ETA: 0s - det_loss: 0.7394 - cls_loss: 0.4759 - box_loss: 0.0053 - reg_l2_loss: 0.0637 - loss: 0.8030 - learning_rate: 0.0063 - gradient_norm: 2.2501"
     ]
    },
    {
     "name": "stderr",
     "output_type": "stream",
     "text": [
      "2024-03-07 15:51:58.155010: W tensorflow/core/framework/dataset.cc:768] Input of GeneratorDatasetOp::Dataset will not be optimized because the dataset does not implement the AsGraphDefInternal() method needed to apply optimizations.\n"
     ]
    },
    {
     "name": "stdout",
     "output_type": "stream",
     "text": [
      "17/17 [==============================] - 17s 997ms/step - det_loss: 0.7456 - cls_loss: 0.4783 - box_loss: 0.0053 - reg_l2_loss: 0.0637 - loss: 0.8093 - learning_rate: 0.0063 - gradient_norm: 2.2836 - val_det_loss: 1.1938 - val_cls_loss: 0.7835 - val_box_loss: 0.0082 - val_reg_l2_loss: 0.0637 - val_loss: 1.2575\n",
      "Epoch 26/50\n",
      "17/17 [==============================] - 16s 935ms/step - det_loss: 0.6867 - cls_loss: 0.4403 - box_loss: 0.0049 - reg_l2_loss: 0.0637 - loss: 0.7504 - learning_rate: 0.0059 - gradient_norm: 2.1567 - val_det_loss: 1.0576 - val_cls_loss: 0.6677 - val_box_loss: 0.0078 - val_reg_l2_loss: 0.0637 - val_loss: 1.1212\n",
      "Epoch 27/50\n",
      "17/17 [==============================] - ETA: 0s - det_loss: 0.6742 - cls_loss: 0.4425 - box_loss: 0.0046 - reg_l2_loss: 0.0637 - loss: 0.7378 - learning_rate: 0.0055 - gradient_norm: 2.1579"
     ]
    },
    {
     "name": "stderr",
     "output_type": "stream",
     "text": [
      "2024-03-07 15:52:30.474734: W tensorflow/core/framework/dataset.cc:768] Input of GeneratorDatasetOp::Dataset will not be optimized because the dataset does not implement the AsGraphDefInternal() method needed to apply optimizations.\n"
     ]
    },
    {
     "name": "stdout",
     "output_type": "stream",
     "text": [
      "17/17 [==============================] - 15s 910ms/step - det_loss: 0.6754 - cls_loss: 0.4443 - box_loss: 0.0046 - reg_l2_loss: 0.0637 - loss: 0.7391 - learning_rate: 0.0055 - gradient_norm: 2.1546 - val_det_loss: 1.0015 - val_cls_loss: 0.6181 - val_box_loss: 0.0077 - val_reg_l2_loss: 0.0637 - val_loss: 1.0651\n",
      "Epoch 28/50\n",
      "17/17 [==============================] - 16s 936ms/step - det_loss: 0.6812 - cls_loss: 0.4432 - box_loss: 0.0048 - reg_l2_loss: 0.0637 - loss: 0.7449 - learning_rate: 0.0051 - gradient_norm: 2.1550 - val_det_loss: 0.9857 - val_cls_loss: 0.5969 - val_box_loss: 0.0078 - val_reg_l2_loss: 0.0637 - val_loss: 1.0494\n",
      "Epoch 29/50\n",
      "17/17 [==============================] - ETA: 0s - det_loss: 0.6793 - cls_loss: 0.4500 - box_loss: 0.0046 - reg_l2_loss: 0.0637 - loss: 0.7430 - learning_rate: 0.0047 - gradient_norm: 2.2164"
     ]
    },
    {
     "name": "stderr",
     "output_type": "stream",
     "text": [
      "2024-03-07 15:53:01.696885: W tensorflow/core/framework/dataset.cc:768] Input of GeneratorDatasetOp::Dataset will not be optimized because the dataset does not implement the AsGraphDefInternal() method needed to apply optimizations.\n"
     ]
    },
    {
     "name": "stdout",
     "output_type": "stream",
     "text": [
      "17/17 [==============================] - 15s 919ms/step - det_loss: 0.6772 - cls_loss: 0.4494 - box_loss: 0.0046 - reg_l2_loss: 0.0637 - loss: 0.7409 - learning_rate: 0.0047 - gradient_norm: 2.2778 - val_det_loss: 0.9626 - val_cls_loss: 0.5853 - val_box_loss: 0.0075 - val_reg_l2_loss: 0.0637 - val_loss: 1.0263\n",
      "Epoch 30/50\n",
      "17/17 [==============================] - 17s 1s/step - det_loss: 0.6876 - cls_loss: 0.4445 - box_loss: 0.0049 - reg_l2_loss: 0.0637 - loss: 0.7513 - learning_rate: 0.0043 - gradient_norm: 2.3247 - val_det_loss: 0.9360 - val_cls_loss: 0.5573 - val_box_loss: 0.0076 - val_reg_l2_loss: 0.0637 - val_loss: 0.9996\n",
      "Epoch 31/50\n",
      "17/17 [==============================] - ETA: 0s - det_loss: 0.6621 - cls_loss: 0.4247 - box_loss: 0.0047 - reg_l2_loss: 0.0637 - loss: 0.7258 - learning_rate: 0.0039 - gradient_norm: 2.0850"
     ]
    },
    {
     "name": "stderr",
     "output_type": "stream",
     "text": [
      "2024-03-07 15:53:34.305031: W tensorflow/core/framework/dataset.cc:768] Input of GeneratorDatasetOp::Dataset will not be optimized because the dataset does not implement the AsGraphDefInternal() method needed to apply optimizations.\n"
     ]
    },
    {
     "name": "stdout",
     "output_type": "stream",
     "text": [
      "17/17 [==============================] - 16s 928ms/step - det_loss: 0.6622 - cls_loss: 0.4236 - box_loss: 0.0048 - reg_l2_loss: 0.0637 - loss: 0.7259 - learning_rate: 0.0039 - gradient_norm: 2.0988 - val_det_loss: 0.9578 - val_cls_loss: 0.5707 - val_box_loss: 0.0077 - val_reg_l2_loss: 0.0637 - val_loss: 1.0214\n",
      "Epoch 32/50\n",
      "17/17 [==============================] - 16s 969ms/step - det_loss: 0.6618 - cls_loss: 0.4268 - box_loss: 0.0047 - reg_l2_loss: 0.0637 - loss: 0.7255 - learning_rate: 0.0035 - gradient_norm: 2.1840 - val_det_loss: 0.9655 - val_cls_loss: 0.5745 - val_box_loss: 0.0078 - val_reg_l2_loss: 0.0637 - val_loss: 1.0292\n",
      "Epoch 33/50\n",
      "17/17 [==============================] - ETA: 0s - det_loss: 0.6440 - cls_loss: 0.4137 - box_loss: 0.0046 - reg_l2_loss: 0.0637 - loss: 0.7077 - learning_rate: 0.0032 - gradient_norm: 2.2016"
     ]
    },
    {
     "name": "stderr",
     "output_type": "stream",
     "text": [
      "2024-03-07 15:54:06.058123: W tensorflow/core/framework/dataset.cc:768] Input of GeneratorDatasetOp::Dataset will not be optimized because the dataset does not implement the AsGraphDefInternal() method needed to apply optimizations.\n"
     ]
    },
    {
     "name": "stdout",
     "output_type": "stream",
     "text": [
      "17/17 [==============================] - 15s 922ms/step - det_loss: 0.6459 - cls_loss: 0.4140 - box_loss: 0.0046 - reg_l2_loss: 0.0637 - loss: 0.7096 - learning_rate: 0.0032 - gradient_norm: 2.2163 - val_det_loss: 0.9357 - val_cls_loss: 0.5529 - val_box_loss: 0.0077 - val_reg_l2_loss: 0.0637 - val_loss: 0.9994\n",
      "Epoch 34/50\n",
      "17/17 [==============================] - 15s 918ms/step - det_loss: 0.6205 - cls_loss: 0.4068 - box_loss: 0.0043 - reg_l2_loss: 0.0637 - loss: 0.6842 - learning_rate: 0.0028 - gradient_norm: 2.1567 - val_det_loss: 0.9167 - val_cls_loss: 0.5387 - val_box_loss: 0.0076 - val_reg_l2_loss: 0.0637 - val_loss: 0.9804\n",
      "Epoch 35/50\n",
      "17/17 [==============================] - ETA: 0s - det_loss: 0.6176 - cls_loss: 0.4037 - box_loss: 0.0043 - reg_l2_loss: 0.0637 - loss: 0.6813 - learning_rate: 0.0025 - gradient_norm: 2.1245"
     ]
    },
    {
     "name": "stderr",
     "output_type": "stream",
     "text": [
      "2024-03-07 15:54:36.972265: W tensorflow/core/framework/dataset.cc:768] Input of GeneratorDatasetOp::Dataset will not be optimized because the dataset does not implement the AsGraphDefInternal() method needed to apply optimizations.\n"
     ]
    },
    {
     "name": "stdout",
     "output_type": "stream",
     "text": [
      "17/17 [==============================] - 17s 999ms/step - det_loss: 0.6177 - cls_loss: 0.4039 - box_loss: 0.0043 - reg_l2_loss: 0.0637 - loss: 0.6814 - learning_rate: 0.0025 - gradient_norm: 2.1209 - val_det_loss: 0.9299 - val_cls_loss: 0.5545 - val_box_loss: 0.0075 - val_reg_l2_loss: 0.0637 - val_loss: 0.9936\n",
      "Epoch 36/50\n",
      "17/17 [==============================] - 15s 904ms/step - det_loss: 0.6338 - cls_loss: 0.4146 - box_loss: 0.0044 - reg_l2_loss: 0.0637 - loss: 0.6975 - learning_rate: 0.0022 - gradient_norm: 2.1480 - val_det_loss: 0.9032 - val_cls_loss: 0.5345 - val_box_loss: 0.0074 - val_reg_l2_loss: 0.0637 - val_loss: 0.9668\n",
      "Epoch 37/50\n",
      "17/17 [==============================] - ETA: 0s - det_loss: 0.6404 - cls_loss: 0.4114 - box_loss: 0.0046 - reg_l2_loss: 0.0637 - loss: 0.7041 - learning_rate: 0.0019 - gradient_norm: 2.1438"
     ]
    },
    {
     "name": "stderr",
     "output_type": "stream",
     "text": [
      "2024-03-07 15:55:08.834641: W tensorflow/core/framework/dataset.cc:768] Input of GeneratorDatasetOp::Dataset will not be optimized because the dataset does not implement the AsGraphDefInternal() method needed to apply optimizations.\n"
     ]
    },
    {
     "name": "stdout",
     "output_type": "stream",
     "text": [
      "17/17 [==============================] - 16s 938ms/step - det_loss: 0.6310 - cls_loss: 0.4071 - box_loss: 0.0045 - reg_l2_loss: 0.0637 - loss: 0.6946 - learning_rate: 0.0019 - gradient_norm: 2.1179 - val_det_loss: 0.9198 - val_cls_loss: 0.5462 - val_box_loss: 0.0075 - val_reg_l2_loss: 0.0637 - val_loss: 0.9835\n",
      "Epoch 38/50\n",
      "17/17 [==============================] - 15s 913ms/step - det_loss: 0.6430 - cls_loss: 0.4194 - box_loss: 0.0045 - reg_l2_loss: 0.0637 - loss: 0.7067 - learning_rate: 0.0016 - gradient_norm: 2.2332 - val_det_loss: 0.9094 - val_cls_loss: 0.5391 - val_box_loss: 0.0074 - val_reg_l2_loss: 0.0637 - val_loss: 0.9731\n",
      "Epoch 39/50\n",
      "17/17 [==============================] - ETA: 0s - det_loss: 0.6343 - cls_loss: 0.4085 - box_loss: 0.0045 - reg_l2_loss: 0.0637 - loss: 0.6980 - learning_rate: 0.0014 - gradient_norm: 2.0255"
     ]
    },
    {
     "name": "stderr",
     "output_type": "stream",
     "text": [
      "2024-03-07 15:55:40.369708: W tensorflow/core/framework/dataset.cc:768] Input of GeneratorDatasetOp::Dataset will not be optimized because the dataset does not implement the AsGraphDefInternal() method needed to apply optimizations.\n"
     ]
    },
    {
     "name": "stdout",
     "output_type": "stream",
     "text": [
      "17/17 [==============================] - 16s 941ms/step - det_loss: 0.6337 - cls_loss: 0.4083 - box_loss: 0.0045 - reg_l2_loss: 0.0637 - loss: 0.6973 - learning_rate: 0.0014 - gradient_norm: 2.0336 - val_det_loss: 0.9128 - val_cls_loss: 0.5422 - val_box_loss: 0.0074 - val_reg_l2_loss: 0.0637 - val_loss: 0.9765\n",
      "Epoch 40/50\n",
      "17/17 [==============================] - 17s 1s/step - det_loss: 0.6192 - cls_loss: 0.4108 - box_loss: 0.0042 - reg_l2_loss: 0.0637 - loss: 0.6829 - learning_rate: 0.0011 - gradient_norm: 2.1312 - val_det_loss: 0.9001 - val_cls_loss: 0.5331 - val_box_loss: 0.0073 - val_reg_l2_loss: 0.0637 - val_loss: 0.9638\n",
      "Epoch 41/50\n",
      "17/17 [==============================] - ETA: 0s - det_loss: 0.6102 - cls_loss: 0.3974 - box_loss: 0.0043 - reg_l2_loss: 0.0637 - loss: 0.6739 - learning_rate: 9.1239e-04 - gradient_norm: 2.0444"
     ]
    },
    {
     "name": "stderr",
     "output_type": "stream",
     "text": [
      "2024-03-07 15:56:12.709934: W tensorflow/core/framework/dataset.cc:768] Input of GeneratorDatasetOp::Dataset will not be optimized because the dataset does not implement the AsGraphDefInternal() method needed to apply optimizations.\n"
     ]
    },
    {
     "name": "stdout",
     "output_type": "stream",
     "text": [
      "17/17 [==============================] - 16s 940ms/step - det_loss: 0.6170 - cls_loss: 0.3993 - box_loss: 0.0044 - reg_l2_loss: 0.0637 - loss: 0.6807 - learning_rate: 9.0703e-04 - gradient_norm: 2.0490 - val_det_loss: 0.9010 - val_cls_loss: 0.5325 - val_box_loss: 0.0074 - val_reg_l2_loss: 0.0637 - val_loss: 0.9647\n",
      "Epoch 42/50\n",
      "17/17 [==============================] - 15s 919ms/step - det_loss: 0.6215 - cls_loss: 0.4009 - box_loss: 0.0044 - reg_l2_loss: 0.0637 - loss: 0.6852 - learning_rate: 7.1039e-04 - gradient_norm: 2.3823 - val_det_loss: 0.9104 - val_cls_loss: 0.5393 - val_box_loss: 0.0074 - val_reg_l2_loss: 0.0637 - val_loss: 0.9741\n",
      "Epoch 43/50\n",
      "17/17 [==============================] - ETA: 0s - det_loss: 0.6303 - cls_loss: 0.4106 - box_loss: 0.0044 - reg_l2_loss: 0.0637 - loss: 0.6939 - learning_rate: 5.4068e-04 - gradient_norm: 2.1949"
     ]
    },
    {
     "name": "stderr",
     "output_type": "stream",
     "text": [
      "2024-03-07 15:56:44.221562: W tensorflow/core/framework/dataset.cc:768] Input of GeneratorDatasetOp::Dataset will not be optimized because the dataset does not implement the AsGraphDefInternal() method needed to apply optimizations.\n"
     ]
    },
    {
     "name": "stdout",
     "output_type": "stream",
     "text": [
      "17/17 [==============================] - 16s 931ms/step - det_loss: 0.6287 - cls_loss: 0.4102 - box_loss: 0.0044 - reg_l2_loss: 0.0637 - loss: 0.6924 - learning_rate: 5.3651e-04 - gradient_norm: 2.1548 - val_det_loss: 0.9049 - val_cls_loss: 0.5320 - val_box_loss: 0.0075 - val_reg_l2_loss: 0.0637 - val_loss: 0.9686\n",
      "Epoch 44/50\n",
      "17/17 [==============================] - 15s 910ms/step - det_loss: 0.6228 - cls_loss: 0.4048 - box_loss: 0.0044 - reg_l2_loss: 0.0637 - loss: 0.6865 - learning_rate: 3.8611e-04 - gradient_norm: 2.0208 - val_det_loss: 0.9040 - val_cls_loss: 0.5311 - val_box_loss: 0.0075 - val_reg_l2_loss: 0.0637 - val_loss: 0.9676\n",
      "Epoch 45/50\n",
      "17/17 [==============================] - ETA: 0s - det_loss: 0.6106 - cls_loss: 0.3955 - box_loss: 0.0043 - reg_l2_loss: 0.0637 - loss: 0.6742 - learning_rate: 2.6271e-04 - gradient_norm: 2.0802"
     ]
    },
    {
     "name": "stderr",
     "output_type": "stream",
     "text": [
      "2024-03-07 15:57:15.332104: W tensorflow/core/framework/dataset.cc:768] Input of GeneratorDatasetOp::Dataset will not be optimized because the dataset does not implement the AsGraphDefInternal() method needed to apply optimizations.\n"
     ]
    },
    {
     "name": "stdout",
     "output_type": "stream",
     "text": [
      "17/17 [==============================] - 17s 1s/step - det_loss: 0.6143 - cls_loss: 0.3965 - box_loss: 0.0044 - reg_l2_loss: 0.0637 - loss: 0.6780 - learning_rate: 2.5981e-04 - gradient_norm: 2.0889 - val_det_loss: 0.9025 - val_cls_loss: 0.5304 - val_box_loss: 0.0074 - val_reg_l2_loss: 0.0637 - val_loss: 0.9662\n",
      "Epoch 46/50\n",
      "17/17 [==============================] - 15s 918ms/step - det_loss: 0.6370 - cls_loss: 0.4117 - box_loss: 0.0045 - reg_l2_loss: 0.0637 - loss: 0.7007 - learning_rate: 1.5812e-04 - gradient_norm: 2.3888 - val_det_loss: 0.9026 - val_cls_loss: 0.5306 - val_box_loss: 0.0074 - val_reg_l2_loss: 0.0637 - val_loss: 0.9663\n",
      "Epoch 47/50\n",
      "17/17 [==============================] - ETA: 0s - det_loss: 0.6289 - cls_loss: 0.4136 - box_loss: 0.0043 - reg_l2_loss: 0.0637 - loss: 0.6926 - learning_rate: 8.3058e-05 - gradient_norm: 2.2632"
     ]
    },
    {
     "name": "stderr",
     "output_type": "stream",
     "text": [
      "2024-03-07 15:57:47.811308: W tensorflow/core/framework/dataset.cc:768] Input of GeneratorDatasetOp::Dataset will not be optimized because the dataset does not implement the AsGraphDefInternal() method needed to apply optimizations.\n"
     ]
    },
    {
     "name": "stdout",
     "output_type": "stream",
     "text": [
      "17/17 [==============================] - 15s 910ms/step - det_loss: 0.6233 - cls_loss: 0.4107 - box_loss: 0.0043 - reg_l2_loss: 0.0637 - loss: 0.6869 - learning_rate: 8.1465e-05 - gradient_norm: 2.2727 - val_det_loss: 0.9029 - val_cls_loss: 0.5313 - val_box_loss: 0.0074 - val_reg_l2_loss: 0.0637 - val_loss: 0.9666\n",
      "Epoch 48/50\n",
      "17/17 [==============================] - 15s 917ms/step - det_loss: 0.5928 - cls_loss: 0.3901 - box_loss: 0.0041 - reg_l2_loss: 0.0637 - loss: 0.6565 - learning_rate: 3.0158e-05 - gradient_norm: 2.0185 - val_det_loss: 0.9034 - val_cls_loss: 0.5324 - val_box_loss: 0.0074 - val_reg_l2_loss: 0.0637 - val_loss: 0.9671\n",
      "Epoch 49/50\n",
      "17/17 [==============================] - ETA: 0s - det_loss: 0.6216 - cls_loss: 0.4105 - box_loss: 0.0042 - reg_l2_loss: 0.0637 - loss: 0.6853 - learning_rate: 4.6661e-06 - gradient_norm: 2.1900"
     ]
    },
    {
     "name": "stderr",
     "output_type": "stream",
     "text": [
      "2024-03-07 15:58:18.474819: W tensorflow/core/framework/dataset.cc:768] Input of GeneratorDatasetOp::Dataset will not be optimized because the dataset does not implement the AsGraphDefInternal() method needed to apply optimizations.\n"
     ]
    },
    {
     "name": "stdout",
     "output_type": "stream",
     "text": [
      "17/17 [==============================] - 16s 926ms/step - det_loss: 0.6214 - cls_loss: 0.4103 - box_loss: 0.0042 - reg_l2_loss: 0.0637 - loss: 0.6851 - learning_rate: 4.4093e-06 - gradient_norm: 2.2228 - val_det_loss: 0.9034 - val_cls_loss: 0.5328 - val_box_loss: 0.0074 - val_reg_l2_loss: 0.0637 - val_loss: 0.9671\n",
      "Epoch 50/50\n",
      "17/17 [==============================] - 16s 985ms/step - det_loss: 0.6309 - cls_loss: 0.4076 - box_loss: 0.0045 - reg_l2_loss: 0.0637 - loss: 0.6946 - learning_rate: 4.3254e-06 - gradient_norm: 2.2232 - val_det_loss: 0.9030 - val_cls_loss: 0.5328 - val_box_loss: 0.0074 - val_reg_l2_loss: 0.0637 - val_loss: 0.9667\n"
     ]
    }
   ],
   "source": [
    "model = object_detector.create(train_data=train_data, \n",
    "                               model_spec=spec, \n",
    "                               validation_data=validation_data, \n",
    "                               epochs=50, \n",
    "                               batch_size=10, \n",
    "                               train_whole_model=True)"
   ]
  },
  {
   "cell_type": "code",
   "execution_count": 7,
   "metadata": {},
   "outputs": [
    {
     "name": "stderr",
     "output_type": "stream",
     "text": [
      "2024-03-07 16:01:28.896048: W tensorflow/core/framework/dataset.cc:768] Input of GeneratorDatasetOp::Dataset will not be optimized because the dataset does not implement the AsGraphDefInternal() method needed to apply optimizations.\n"
     ]
    },
    {
     "name": "stdout",
     "output_type": "stream",
     "text": [
      "1/1 [==============================] - 5s 5s/step\n",
      "\n"
     ]
    },
    {
     "data": {
      "text/plain": [
       "{'AP': 0.22324984,\n",
       " 'AP50': 0.3661789,\n",
       " 'AP75': 0.23232123,\n",
       " 'APs': -1.0,\n",
       " 'APm': 0.4805202,\n",
       " 'APl': 0.22193494,\n",
       " 'ARmax1': 0.17475824,\n",
       " 'ARmax10': 0.32159647,\n",
       " 'ARmax100': 0.37313503,\n",
       " 'ARs': -1.0,\n",
       " 'ARm': 0.55833334,\n",
       " 'ARl': 0.37215203,\n",
       " 'AP_/Baked Goods': 0.022119539,\n",
       " 'AP_/Salad': 0.5706247,\n",
       " 'AP_/Cheese': 0.20095348,\n",
       " 'AP_/Seafood': 0.045586586,\n",
       " 'AP_/Tomato': 0.27696487}"
      ]
     },
     "execution_count": 7,
     "metadata": {},
     "output_type": "execute_result"
    }
   ],
   "source": [
    "model.evaluate(test_data)"
   ]
  },
  {
   "cell_type": "code",
   "execution_count": 8,
   "metadata": {},
   "outputs": [],
   "source": [
    "TFLITE_FILENAME = 'efficientdet-lite-salad.tflite'\n",
    "LABELS_FILENAME = 'salad-labels.txt'"
   ]
  },
  {
   "cell_type": "code",
   "execution_count": 9,
   "metadata": {},
   "outputs": [
    {
     "name": "stderr",
     "output_type": "stream",
     "text": [
      "2024-03-07 16:01:59.464198: W tensorflow/python/util/util.cc:368] Sets are not currently considered sequences, but this may change in the future, so consider avoiding using them.\n",
      "2024-03-07 16:02:21.711910: W tensorflow/core/common_runtime/graph_constructor.cc:803] Node 'resample_p7/PartitionedCall' has 1 outputs but the _output_shapes attribute specifies shapes for 3 outputs. Output shapes may be inaccurate.\n"
     ]
    },
    {
     "name": "stdout",
     "output_type": "stream",
     "text": [
      "Estimated count of arithmetic ops: 1.763 G  ops, equivalently 0.882 G  MACs\n"
     ]
    },
    {
     "name": "stderr",
     "output_type": "stream",
     "text": [
      "2024-03-07 16:02:28.489478: W tensorflow/compiler/mlir/lite/python/tf_tfl_flatbuffer_helpers.cc:357] Ignored output_format.\n",
      "2024-03-07 16:02:28.489556: W tensorflow/compiler/mlir/lite/python/tf_tfl_flatbuffer_helpers.cc:360] Ignored drop_control_dependency.\n",
      "2024-03-07 16:02:28.490531: I tensorflow/cc/saved_model/reader.cc:43] Reading SavedModel from: /tmp/tmpfn0zwavi\n",
      "2024-03-07 16:02:28.607141: I tensorflow/cc/saved_model/reader.cc:78] Reading meta graph with tags { serve }\n",
      "2024-03-07 16:02:28.607228: I tensorflow/cc/saved_model/reader.cc:119] Reading SavedModel debug info (if present) from: /tmp/tmpfn0zwavi\n",
      "2024-03-07 16:02:28.967632: I tensorflow/cc/saved_model/loader.cc:228] Restoring SavedModel bundle.\n",
      "2024-03-07 16:02:30.774893: I tensorflow/cc/saved_model/loader.cc:212] Running initialization op on SavedModel bundle at path: /tmp/tmpfn0zwavi\n",
      "2024-03-07 16:02:31.598944: I tensorflow/cc/saved_model/loader.cc:301] SavedModel load for tags { serve }; Status: success: OK. Took 3108413 microseconds.\n",
      "2024-03-07 16:02:32.977275: I tensorflow/compiler/mlir/tensorflow/utils/dump_mlir_util.cc:237] disabling MLIR crash reproducer, set env var `MLIR_CRASH_REPRODUCER_DIRECTORY` to enable.\n",
      "2024-03-07 16:02:34.466315: I tensorflow/compiler/mlir/lite/flatbuffer_export.cc:1963] Estimated count of arithmetic ops: 1.763 G  ops, equivalently 0.882 G  MACs\n",
      "\n"
     ]
    },
    {
     "name": "stdout",
     "output_type": "stream",
     "text": [
      "Estimated count of arithmetic ops: 1.763 G  ops, equivalently 0.882 G  MACs\n"
     ]
    },
    {
     "name": "stderr",
     "output_type": "stream",
     "text": [
      "fully_quantize: 0, inference_type: 6, input_inference_type: 3, output_inference_type: 0\n",
      "2024-03-07 16:03:13.242689: I tensorflow/compiler/mlir/lite/flatbuffer_export.cc:1963] Estimated count of arithmetic ops: 1.763 G  ops, equivalently 0.882 G  MACs\n",
      "\n"
     ]
    }
   ],
   "source": [
    "model.export(export_dir='.', tflite_filename=TFLITE_FILENAME, label_filename=LABELS_FILENAME,\n",
    "             export_format=[ExportFormat.TFLITE, ExportFormat.LABEL])"
   ]
  },
  {
   "cell_type": "code",
   "execution_count": null,
   "metadata": {},
   "outputs": [],
   "source": []
  }
 ],
 "metadata": {
  "kernelspec": {
   "display_name": "Python 3",
   "language": "python",
   "name": "python3"
  },
  "language_info": {
   "codemirror_mode": {
    "name": "ipython",
    "version": 3
   },
   "file_extension": ".py",
   "mimetype": "text/x-python",
   "name": "python",
   "nbconvert_exporter": "python",
   "pygments_lexer": "ipython3",
   "version": "3.9.18"
  }
 },
 "nbformat": 4,
 "nbformat_minor": 2
}
